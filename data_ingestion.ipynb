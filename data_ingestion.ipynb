{
 "cells": [
  {
   "cell_type": "code",
   "execution_count": 1,
   "id": "f366f3dc",
   "metadata": {},
   "outputs": [],
   "source": [
    "from common import ingest_ibge_data, ingest_cad_unico_data, ingest_data_dictionary"
   ]
  },
  {
   "cell_type": "code",
   "execution_count": null,
   "id": "9a46903c",
   "metadata": {},
   "outputs": [
    {
     "name": "stderr",
     "output_type": "stream",
     "text": [
      "2025-06-27 22:58:22,753 - INFO - Ingesting IBGE data...\n",
      "2025-06-27 22:58:22,759 - INFO - Downloading IBGE data...\n",
      "2025-06-27 22:58:23,820 - INFO - IBGE data downloaded successfully.\n",
      "2025-06-27 22:58:24,040 - INFO - Connected to database: database.duckdb\n",
      "2025-06-27 22:58:24,065 - INFO - Executing query...\n",
      "2025-06-27 22:58:24,635 - INFO - Query executed successfully\n",
      "2025-06-27 22:58:24,753 - INFO - IBGE data ingested successfully.\n"
     ]
    },
    {
     "ename": "",
     "evalue": "",
     "output_type": "error",
     "traceback": [
      "\u001b[1;31mO Kernel deu pane ao executar o código na célula atual ou em uma célula anterior. \n",
      "\u001b[1;31mAnalise o código nas células para identificar uma possível causa da pane. \n",
      "\u001b[1;31mClique <a href='https://aka.ms/vscodeJupyterKernelCrash'>aqui</a> para obter mais informações. \n",
      "\u001b[1;31mConsulte Jupyter <a href='command:jupyter.viewOutput'>log</a> para obter mais detalhes."
     ]
    }
   ],
   "source": [
    "ingest_ibge_data()"
   ]
  },
  {
   "cell_type": "code",
   "execution_count": null,
   "id": "4518107a",
   "metadata": {},
   "outputs": [
    {
     "name": "stderr",
     "output_type": "stream",
     "text": [
      "2025-06-27 22:58:24,763 - INFO - Ingesting CAD Unico data...\n",
      "2025-06-27 22:58:24,765 - INFO - Downloading CAD Unico data...\n",
      "2025-06-27 22:58:25,601 - INFO - CAD Unico data downloaded successfully.\n",
      "2025-06-27 22:58:25,603 - INFO - Saving CAD Unico data to disk...\n",
      "2025-06-27 23:05:11,749 - INFO - CAD Unico data saved successfully.\n",
      "2025-06-27 23:05:11,751 - INFO - Extracting CAD Unico data...\n",
      "2025-06-27 23:05:40,574 - INFO - CAD Unico data extracted successfully.\n",
      "2025-06-27 23:05:40,866 - INFO - Cleaning CAD Unico CSV files...\n",
      "2025-06-27 23:05:40,868 - INFO - Cleaning CSV file: data/base_amostra_cad_201812/base_amostra_pessoa_201812.csv\n",
      "2025-06-27 23:05:40,868 - INFO - Cleaning CSV file: data/base_amostra_cad_201812/base_amostra_familia_201812.csv\n"
     ]
    }
   ],
   "source": [
    "ingest_cad_unico_data()"
   ]
  },
  {
   "cell_type": "code",
   "execution_count": null,
   "id": "ae8642df",
   "metadata": {},
   "outputs": [
    {
     "name": "stderr",
     "output_type": "stream",
     "text": [
      "2025-06-26 22:27:38,204 - INFO - Ingesting CAD Unico data dictionary...\n",
      "2025-06-26 22:27:38,208 - INFO - Downloading data dictionary...\n",
      "2025-06-26 22:27:40,347 - INFO - Data dictionary downloaded successfully.\n",
      "2025-06-26 22:27:40,350 - INFO - Cleaning Excel file: data/Dicionario_base_identificada_pt_R03.xlsx\n",
      "2025-06-26 22:27:48,559 - INFO - Excel file cleaned successfully: data/Dicionario_base_identificada_pt_R03.xlsx\n"
     ]
    }
   ],
   "source": [
    "ingest_data_dictionary()"
   ]
  }
 ],
 "metadata": {
  "kernelspec": {
   "display_name": "Python 3",
   "language": "python",
   "name": "python3"
  },
  "language_info": {
   "codemirror_mode": {
    "name": "ipython",
    "version": 3
   },
   "file_extension": ".py",
   "mimetype": "text/x-python",
   "name": "python",
   "nbconvert_exporter": "python",
   "pygments_lexer": "ipython3",
   "version": "3.13.3"
  }
 },
 "nbformat": 4,
 "nbformat_minor": 5
}
